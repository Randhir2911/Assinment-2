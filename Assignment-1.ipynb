{
 "cells": [
  {
   "cell_type": "markdown",
   "id": "ca83d340-8436-4b00-a9d4-8d966cca8621",
   "metadata": {},
   "source": [
    "                                                        # Python Basics\n",
    "\n",
    "Q - 1      What is Python, and why is it popular.\n",
    "\n",
    "Answer - Python is a popular programming language because it's easy to learn, versatile, and can run on many platforms. It's used for a variety of               tasks,including web development, data science, and machine learning. \n",
    "\n",
    "Q - 2     What is an interpreter in Python.\n",
    "\n",
    "Answer - A Python interpreter is a program that translates Python code into machine code, allowing programmers to run their code line by line. \n",
    "\n",
    "\n",
    "Q - 3    What are pre-defined keywords in Python.\n",
    "\n",
    "Answer - Predefined keywords in Python are words that have a specific meaning and are reserved for use in Python programs. They are part of the Python           syntax and cannot be changed. \n",
    "\n",
    "Q - 4    Can keywords be used as variable names.\n",
    "\n",
    "Answer - No, keywords cannot be used as variable names because they are reserved words that define the structure and syntax of a programming language. \n",
    "\n",
    "\n",
    "Q - 5    What is mutability in Python.\n",
    "\n",
    "Answer - In Python, mutability is the ability of an object to change after it has been created. Mutable objects can be modified in place, meaning that           the original object is changed, not a new object. \n",
    "\n",
    "Q - 6    Why are lists mutable, but tuples are immutable.\n",
    "\n",
    "Answer - Tuples and lists are the same in every way except two: tuples use parentheses instead of square brackets, and the items in tuples cannot be             modified.\n",
    "\n",
    "Q - 7    What is the difference between “==” and “is” operators in Python.\n",
    "\n",
    "Answer - In Python, the == operator compares the values of two objects, while the is operator checks if the objects are identical.\n",
    "\n",
    "\n",
    "Q - 8    What are logical operators in Python.\n",
    "\n",
    "Answer - Logical operators in Python are keywords that connect and evaluate multiple conditions in a single expression. They are used to make decisions          based on specific conditions. \n",
    "\n",
    "\n",
    "Q - 9    What is type casting in Python.\n",
    "\n",
    "Answer - Type casting, also known as type conversion, is the process of changing a variable's data type to another data type in Python.\n",
    "\n",
    "\n",
    "Q - 10   What is the difference between implicit and explicit type casting.\n",
    "\n",
    "Answer - Implicit type casting is automatic, while explicit type casting is manual. \n",
    "\n",
    "\n",
    "Q - 11   What is the purpose of conditional statements in Python.\n",
    "\n",
    "Answer   Conditional statements in Python control the flow of a program by executing code based on certain conditions. They are used to make decisions           in code, which can make programs more efficient and easier to read. \n",
    "\n",
    "Q - 12   How does the elif statement work.\n",
    "\n",
    "Answer - The “elif” keyword in Python, stands for “else if”. It can be used in conditional statements to check for multiple conditions. For example, if          the first condition is false, it moves on to the next “elif” statement to check if that condition is true.\n",
    "\n",
    "Q - 13   What is the difference between for and while loops.\n",
    "\n",
    "Answer - The main difference between a for loop and a while loop is that a for loop is used when you know how many times to repeat a block of code,              while a while loop is used when you don't.\n",
    "\n",
    "Q - 14   Describe a scenario where a while loop is more suitable than a for loop.\n",
    "\n",
    "Answer   Use a for loop when you know the loop should execute n times. Use a while loop for reading a file into a variable. Use a while loop when                asking for user input. Use a while loop when the increment value is nonstandard.\n",
    "\n"
   ]
  },
  {
   "cell_type": "markdown",
   "id": "03c8a840-c0bb-4450-8a8f-8560f66f1ad7",
   "metadata": {},
   "source": [
    "                                                        #Pratical Questions "
   ]
  },
  {
   "cell_type": "markdown",
   "id": "9c500f92-7611-4f67-9ef0-d5d701e66698",
   "metadata": {},
   "source": [
    "Q - 1   Write a Python program to print \"Hello, World!"
   ]
  },
  {
   "cell_type": "code",
   "execution_count": 1,
   "id": "738a2987-e436-484a-ad30-ef4e59f7c400",
   "metadata": {},
   "outputs": [
    {
     "name": "stdout",
     "output_type": "stream",
     "text": [
      "Hello, World!\n"
     ]
    }
   ],
   "source": [
    "print(\"Hello, World!\")\n"
   ]
  },
  {
   "cell_type": "markdown",
   "id": "fc97ef3f-1d3e-47ec-90c2-69d938269627",
   "metadata": {},
   "source": [
    "Q - 2   Write a Python program that displays your name and age."
   ]
  },
  {
   "cell_type": "code",
   "execution_count": 3,
   "id": "9017abc2-0171-434c-af3c-8f21b1552b92",
   "metadata": {},
   "outputs": [
    {
     "name": "stdout",
     "output_type": "stream",
     "text": [
      "Name: Your Name\n",
      "Age: 25\n"
     ]
    }
   ],
   "source": [
    "name = \"Your Name\"\n",
    "age = 25  \n",
    "print(\"Name:\", name)\n",
    "print(\"Age:\", age)\n"
   ]
  },
  {
   "cell_type": "markdown",
   "id": "797c01ae-4a6a-4e32-adcd-ebef0f01dd5f",
   "metadata": {},
   "source": [
    "Q - 3   Write code to print all the pre-defined keywords in Python using the keyword library."
   ]
  },
  {
   "cell_type": "code",
   "execution_count": 13,
   "id": "3aa64163-f5ae-474e-a2a5-3d67e80a0d58",
   "metadata": {},
   "outputs": [
    {
     "name": "stdout",
     "output_type": "stream",
     "text": [
      "Python Keywords: ['False', 'None', 'True', 'and', 'as', 'assert', 'async', 'await', 'break', 'class', 'continue', 'def', 'del', 'elif', 'else', 'except', 'finally', 'for', 'from', 'global', 'if', 'import', 'in', 'is', 'lambda', 'nonlocal', 'not', 'or', 'pass', 'raise', 'return', 'try', 'while', 'with', 'yield']\n"
     ]
    }
   ],
   "source": [
    "import keyword\n",
    "\n",
    "keywords = keyword.kwlist\n",
    "\n",
    "print(\"Python Keywords:\", keywords)"
   ]
  },
  {
   "cell_type": "markdown",
   "id": "fc26adf6-e742-4b00-ba42-9fb3abbf2429",
   "metadata": {},
   "source": [
    "Q - 4  Write a program that checks if a given word is a Python keyword."
   ]
  },
  {
   "cell_type": "code",
   "execution_count": 15,
   "id": "c1adbd1f-0ca8-4123-a648-c45aead73e2e",
   "metadata": {},
   "outputs": [
    {
     "name": "stdin",
     "output_type": "stream",
     "text": [
      "Enter a word:  and\n"
     ]
    },
    {
     "name": "stdout",
     "output_type": "stream",
     "text": [
      "'and' is a Python keyword.\n"
     ]
    }
   ],
   "source": [
    "import keyword\n",
    "word = input(\"Enter a word: \")\n",
    "if keyword.iskeyword(word):\n",
    "    print(f\"'{word}' is a Python keyword.\")\n",
    "else:\n",
    "    print(f\"'{word}' is not a Python keyword.\")\n"
   ]
  },
  {
   "cell_type": "markdown",
   "id": "0535a569-eec0-4d5a-8ec2-f0fb625f402c",
   "metadata": {},
   "source": [
    "Q - 5   Create a list and tuple in Python, and demonstrate how attempting to change an element works differently\n",
    "        for each."
   ]
  },
  {
   "cell_type": "code",
   "execution_count": 17,
   "id": "5a5ed977-1b7b-4646-b8f8-7480e86c7bd4",
   "metadata": {},
   "outputs": [
    {
     "name": "stdout",
     "output_type": "stream",
     "text": [
      "List after modification: [10, 2, 3, 4, 5]\n",
      "Error while modifying tuple: 'tuple' object does not support item assignment\n"
     ]
    }
   ],
   "source": [
    "\n",
    "my_list = [1, 2, 3, 4, 5]\n",
    "my_tuple = (1, 2, 3, 4, 5)\n",
    "\n",
    "\n",
    "try:\n",
    "    my_list[0] = 10\n",
    "    print(\"List after modification:\", my_list)\n",
    "except TypeError as e:\n",
    "    print(\"Error while modifying list:\", e)\n",
    "\n",
    "try:\n",
    "    my_tuple[0] = 10\n",
    "    print(\"Tuple after modification:\", my_tuple)\n",
    "except TypeError as e:\n",
    "    print(\"Error while modifying tuple:\", e)\n"
   ]
  },
  {
   "cell_type": "markdown",
   "id": "bd433756-bac0-4267-bd52-70d78a40a60b",
   "metadata": {},
   "source": [
    "Q - 6 Write a function to demonstrate the behavior of mutable and immutable arguments."
   ]
  },
  {
   "cell_type": "code",
   "execution_count": 19,
   "id": "9fc1a3ee-605d-4edb-bfe7-a39c322d5e93",
   "metadata": {},
   "outputs": [
    {
     "name": "stdout",
     "output_type": "stream",
     "text": [
      "After modifying mutable argument: [1, 2, 3, 10]\n",
      "After modifying immutable argument: 25\n",
      "\n",
      "Outside the function:\n",
      "Mutable argument (list): [1, 2, 3, 10]\n",
      "Immutable argument (integer): 20\n"
     ]
    }
   ],
   "source": [
    "def modify_arguments(mutable_arg, immutable_arg):\n",
    "    \n",
    "    mutable_arg.append(10)\n",
    "    print(\"After modifying mutable argument:\", mutable_arg)\n",
    "\n",
    "    immutable_arg += 5\n",
    "    print(\"After modifying immutable argument:\", immutable_arg)\n",
    "my_list = [1, 2, 3]\n",
    "my_number = 20\n",
    "modify_arguments(my_list, my_number)\n",
    "print(\"\\nOutside the function:\")\n",
    "print(\"Mutable argument (list):\", my_list)\n",
    "print(\"Immutable argument (integer):\", my_number)\n"
   ]
  },
  {
   "cell_type": "markdown",
   "id": "d96a28a1-4ff4-4d6c-9c8f-c2a540189487",
   "metadata": {},
   "source": [
    "Q - 7  Write a function to demonstrate the behavior of mutable and immutable arguments."
   ]
  },
  {
   "cell_type": "code",
   "execution_count": 21,
   "id": "3d64383f-302e-41fd-a969-0ce70f2e1ea5",
   "metadata": {},
   "outputs": [
    {
     "name": "stdout",
     "output_type": "stream",
     "text": [
      "After modifying the mutable argument (list): [1, 2, 3, 200]\n",
      "After modifying the immutable argument (integer): 15\n",
      "\n",
      "Outside the function:\n",
      "Mutable argument (list): [1, 2, 3, 200]\n",
      "Immutable argument (integer): 5\n"
     ]
    }
   ],
   "source": [
    "def demonstrate_mutable_immutable(mutable_arg, immutable_arg):\n",
    "    \n",
    "    mutable_arg.append(200)\n",
    "    print(\"After modifying the mutable argument (list):\", mutable_arg)\n",
    "\n",
    "    \n",
    "    immutable_arg += 10\n",
    "    print(\"After modifying the immutable argument (integer):\", immutable_arg)\n",
    "mutable_list = [1, 2, 3]\n",
    "immutable_num = 5\n",
    "demonstrate_mutable_immutable(mutable_list, immutable_num)\n",
    "print(\"\\nOutside the function:\")\n",
    "print(\"Mutable argument (list):\", mutable_list)\n",
    "print(\"Immutable argument (integer):\", immutable_num)\n"
   ]
  },
  {
   "cell_type": "markdown",
   "id": "3086bd1a-a11a-42ca-978a-2a377da590ad",
   "metadata": {},
   "source": [
    "Q - 8  Write a program to demonstrate the use of logical operators."
   ]
  },
  {
   "cell_type": "code",
   "execution_count": 23,
   "id": "a6a34841-4c98-40e2-aab3-9b69935db3ba",
   "metadata": {},
   "outputs": [
    {
     "name": "stdout",
     "output_type": "stream",
     "text": [
      "At least one of 5 or -3 is not positive.\n",
      "At least one of 5 or -3 is positive.\n",
      "5 is positive.\n"
     ]
    }
   ],
   "source": [
    "def demonstrate_logical_operators(x, y):\n",
    "   \n",
    "    if x > 0 and y > 0:\n",
    "        print(f\"Both {x} and {y} are positive numbers.\")\n",
    "    else:\n",
    "        print(f\"At least one of {x} or {y} is not positive.\")\n",
    "\n",
    "    \n",
    "    if x > 0 or y > 0:\n",
    "        print(f\"At least one of {x} or {y} is positive.\")\n",
    "    else:\n",
    "        print(f\"Neither {x} nor {y} is positive.\")\n",
    "\n",
    "\n",
    "    if not (x > 0):\n",
    "        print(f\"{x} is not positive.\")\n",
    "    else:\n",
    "        print(f\"{x} is positive.\")\n",
    "\n",
    "\n",
    "x = 5\n",
    "y = -3\n",
    "\n",
    "demonstrate_logical_operators(x, y)\n"
   ]
  },
  {
   "cell_type": "markdown",
   "id": "6bb46842-3503-4ed3-9980-687dec2fc32d",
   "metadata": {},
   "source": [
    "Q - 9  Write a Python program to convert user input from string to integer, float, and boolean types."
   ]
  },
  {
   "cell_type": "code",
   "execution_count": 25,
   "id": "8438cc3b-bef7-4d60-b52e-f30ae87a5f46",
   "metadata": {},
   "outputs": [
    {
     "name": "stdin",
     "output_type": "stream",
     "text": [
      "Enter a value:  123\n"
     ]
    },
    {
     "name": "stdout",
     "output_type": "stream",
     "text": [
      "The integer value is: 123\n",
      "The float value is: 123.0\n",
      "The boolean value is: True\n"
     ]
    }
   ],
   "source": [
    "# def convert_user_input():\n",
    "    \n",
    "    user_input = input(\"Enter a value: \")\n",
    "\n",
    "   \n",
    "    try:\n",
    "        int_value = int(user_input)\n",
    "        print(f\"The integer value is: {int_value}\")\n",
    "    except ValueError:\n",
    "        print(\"The input cannot be converted to an integer.\")\n",
    "\n",
    "    \n",
    "    try:\n",
    "        float_value = float(user_input)\n",
    "        print(f\"The float value is: {float_value}\")\n",
    "    except ValueError:\n",
    "        print(\"The input cannot be converted to a float.\")\n",
    "\n",
    "    \n",
    "    if user_input.lower() == 'true':\n",
    "        bool_value = True\n",
    "    elif user_input.lower() == 'false':\n",
    "        bool_value = False\n",
    "    else:\n",
    "        bool_value = bool(user_input)  \n",
    "    print(f\"The boolean value is: {bool_value}\")\n",
    "\n",
    "\n",
    "convert_user_input()\n"
   ]
  },
  {
   "cell_type": "markdown",
   "id": "0a62e1a3-dddd-4a3b-9c88-ed82e6e37697",
   "metadata": {},
   "source": [
    "Q - 10  Write code to demonstrate type casting with list elements."
   ]
  },
  {
   "cell_type": "code",
   "execution_count": 27,
   "id": "55567521-2202-4cce-ba1a-0d7927c49db4",
   "metadata": {},
   "outputs": [
    {
     "name": "stdout",
     "output_type": "stream",
     "text": [
      "Original List: ['123', '45.67', 'True', 'False', '0', 'Hello', '-5', '3.14.15']\n",
      "List after converting to integers: [123, None, None, None, 0, None, -5, None]\n",
      "List after converting to floats: [123.0, 45.67, None, None, 0.0, None, -5.0, None]\n",
      "List after converting to booleans: [False, False, True, False, False, False, False, False]\n"
     ]
    }
   ],
   "source": [
    "def demonstrate_type_casting():\n",
    "   \n",
    "    string_list = [\"123\", \"45.67\", \"True\", \"False\", \"0\", \"Hello\", \"-5\", \"3.14.15\"]\n",
    "\n",
    "    \n",
    "    integer_list = []\n",
    "    for item in string_list:\n",
    "        try:\n",
    "            integer_list.append(int(item))  \n",
    "        except ValueError:\n",
    "            integer_list.append(None)  \n",
    "\n",
    "    \n",
    "    float_list = []\n",
    "    for item in string_list:\n",
    "        try:\n",
    "            float_list.append(float(item)) \n",
    "        except ValueError:\n",
    "            float_list.append(None)  \n",
    "\n",
    "    \n",
    "    boolean_list = [item.lower() == \"true\" for item in string_list]\n",
    "\n",
    "    \n",
    "    print(\"Original List:\", string_list)\n",
    "    print(\"List after converting to integers:\", integer_list)\n",
    "    print(\"List after converting to floats:\", float_list)\n",
    "    print(\"List after converting to booleans:\", boolean_list)\n",
    "\n",
    "\n",
    "demonstrate_type_casting()\n"
   ]
  },
  {
   "cell_type": "markdown",
   "id": "5b5858a6-5431-4d6f-856c-7d383acc0dfa",
   "metadata": {},
   "source": [
    "Q - 11  Write a program that checks if a number is positive, negative, or zero."
   ]
  },
  {
   "cell_type": "code",
   "execution_count": 29,
   "id": "2ba765b0-a50c-4dc2-b97d-91b0ae875979",
   "metadata": {},
   "outputs": [
    {
     "name": "stdin",
     "output_type": "stream",
     "text": [
      "Enter a number:  5\n"
     ]
    },
    {
     "name": "stdout",
     "output_type": "stream",
     "text": [
      "The number is positive.\n"
     ]
    }
   ],
   "source": [
    "def check_number():\n",
    "    \n",
    "    number = float(input(\"Enter a number: \"))\n",
    "    \n",
    "    \n",
    "    if number > 0:\n",
    "        print(\"The number is positive.\")\n",
    "    elif number < 0:\n",
    "        print(\"The number is negative.\")\n",
    "    else:\n",
    "        print(\"The number is zero.\")\n",
    "\n",
    "\n",
    "check_number()\n"
   ]
  },
  {
   "cell_type": "markdown",
   "id": "3c6d7c01-bb05-4e3a-b4cd-781279634db1",
   "metadata": {},
   "source": [
    "Q - 12   Write a for loop to print numbers from 1 to 10."
   ]
  },
  {
   "cell_type": "code",
   "execution_count": 31,
   "id": "2bb633ce-0d7e-4fce-a9d3-c0bc705c43a7",
   "metadata": {},
   "outputs": [
    {
     "name": "stdout",
     "output_type": "stream",
     "text": [
      "1\n",
      "2\n",
      "3\n",
      "4\n",
      "5\n",
      "6\n",
      "7\n",
      "8\n",
      "9\n",
      "10\n"
     ]
    }
   ],
   "source": [
    "for i in range(1, 11):\n",
    "    print(i)\n"
   ]
  },
  {
   "cell_type": "markdown",
   "id": "638bdf02-df00-458c-8bcd-8eb45227e5b9",
   "metadata": {},
   "source": [
    "Q - 13  Write a Python program to find the sum of all even numbers between 1 and 50."
   ]
  },
  {
   "cell_type": "code",
   "execution_count": 33,
   "id": "2d9704b5-8514-47d0-9f9d-715f3b4776af",
   "metadata": {},
   "outputs": [
    {
     "name": "stdout",
     "output_type": "stream",
     "text": [
      "The sum of all even numbers between 1 and 50 is: 650\n"
     ]
    }
   ],
   "source": [
    "sum_of_evens = 0\n",
    "for num in range(1, 51):\n",
    "    if num % 2 == 0:  \n",
    "        sum_of_evens += num  \n",
    "print(\"The sum of all even numbers between 1 and 50 is:\", sum_of_evens)\n"
   ]
  },
  {
   "cell_type": "markdown",
   "id": "e402a917-375d-47fb-89a2-122fe45970d8",
   "metadata": {},
   "source": [
    "Q - 14  Write a program to reverse a string using a while loop."
   ]
  },
  {
   "cell_type": "code",
   "execution_count": 54,
   "id": "6735f7fe-0e0c-45a0-bc1a-f5a4381ada92",
   "metadata": {},
   "outputs": [
    {
     "name": "stdin",
     "output_type": "stream",
     "text": [
      "Enter a string:  randhir\n"
     ]
    },
    {
     "name": "stdout",
     "output_type": "stream",
     "text": [
      "Reversed string: rihdnar\n"
     ]
    }
   ],
   "source": [
    "def reverse_string(input_string):\n",
    "    reversed_string = \"\"\n",
    "    index = len(input_string) - 1\n",
    "    \n",
    "    while index >= 0:\n",
    "        reversed_string += input_string[index]  \n",
    "        index -= 1  \n",
    "    return reversed_string\n",
    "input_string = input(\"Enter a string: \")\n",
    "result = reverse_string(input_string)\n",
    "print(\"Reversed string:\", result)\n"
   ]
  },
  {
   "cell_type": "markdown",
   "id": "b183159e-a0a4-48da-bfec-8ffd957419a4",
   "metadata": {},
   "source": [
    "Q - 15  Write a Python program to calculate the factorial of a number provided by the user using a while loop."
   ]
  },
  {
   "cell_type": "code",
   "execution_count": 56,
   "id": "f619cf7d-5247-46cd-8c92-707a31a43cba",
   "metadata": {},
   "outputs": [
    {
     "name": "stdin",
     "output_type": "stream",
     "text": [
      "Enter a number to calculate its factorial:  10\n"
     ]
    },
    {
     "name": "stdout",
     "output_type": "stream",
     "text": [
      "The factorial of 10 is: 3628800\n"
     ]
    }
   ],
   "source": [
    "def calculate_factorial():\n",
    "    \n",
    "    number = int(input(\"Enter a number to calculate its factorial: \"))\n",
    "    \n",
    "    \n",
    "    factorial = 1\n",
    "    \n",
    "    \n",
    "    if number < 0:\n",
    "        print(\"Factorial is not defined for negative numbers.\")\n",
    "    else:\n",
    "        \n",
    "        i = 1\n",
    "        while i <= number:\n",
    "            factorial *= i \n",
    "            i += 1  \n",
    "            \n",
    "        print(f\"The factorial of {number} is: {factorial}\")\n",
    "\n",
    "\n",
    "calculate_factorial()\n"
   ]
  },
  {
   "cell_type": "code",
   "execution_count": null,
   "id": "e328a903-256f-4a1d-82b3-7268689843eb",
   "metadata": {},
   "outputs": [],
   "source": []
  }
 ],
 "metadata": {
  "kernelspec": {
   "display_name": "Python [conda env:base] *",
   "language": "python",
   "name": "conda-base-py"
  },
  "language_info": {
   "codemirror_mode": {
    "name": "ipython",
    "version": 3
   },
   "file_extension": ".py",
   "mimetype": "text/x-python",
   "name": "python",
   "nbconvert_exporter": "python",
   "pygments_lexer": "ipython3",
   "version": "3.12.7"
  }
 },
 "nbformat": 4,
 "nbformat_minor": 5
}
